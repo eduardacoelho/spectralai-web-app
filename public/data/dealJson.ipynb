{
 "cells": [
  {
   "cell_type": "code",
   "execution_count": 1,
   "metadata": {},
   "outputs": [],
   "source": [
    "import json\n",
    "with open('forWeb_Tabular.json','r') as f:\n",
    "    data = json.load(f)\n"
   ]
  },
  {
   "cell_type": "code",
   "execution_count": 2,
   "metadata": {},
   "outputs": [],
   "source": [
    "for item in data:\n",
    "    name = item['ids']['iupac_name']\n",
    "    smile = item['ids']['smile']\n",
    "    if \"Page not found (404)\" in name:\n",
    "        print(smile)"
   ]
  },
  {
   "cell_type": "code",
   "execution_count": 3,
   "metadata": {},
   "outputs": [],
   "source": [
    "for item in data:\n",
    "    names = item['metrics']['names']\n",
    "    values = item['metrics']['values']\n",
    "    item['metrics'] = [(name,value) for name, value in zip(names,values)]\n",
    "        "
   ]
  },
  {
   "cell_type": "code",
   "execution_count": 4,
   "metadata": {},
   "outputs": [],
   "source": [
    "with open(r\"forWeb_Tabular.json\",'w') as f:\n",
    "    f.write(json.dumps(data, indent=4))"
   ]
  },
  {
   "cell_type": "code",
   "execution_count": null,
   "metadata": {},
   "outputs": [],
   "source": []
  }
 ],
 "metadata": {
  "kernelspec": {
   "display_name": "Python 3.9.12 ('base')",
   "language": "python",
   "name": "python3"
  },
  "language_info": {
   "codemirror_mode": {
    "name": "ipython",
    "version": 3
   },
   "file_extension": ".py",
   "mimetype": "text/x-python",
   "name": "python",
   "nbconvert_exporter": "python",
   "pygments_lexer": "ipython3",
   "version": "3.9.12"
  },
  "orig_nbformat": 4,
  "vscode": {
   "interpreter": {
    "hash": "94bef3baab1322d9735720ad04eeabea07ab806650064786b2f5df6e3c4f6c41"
   }
  }
 },
 "nbformat": 4,
 "nbformat_minor": 2
}
